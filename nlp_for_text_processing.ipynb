{
 "cells": [
  {
   "cell_type": "code",
   "execution_count": null,
   "id": "2a9e4ed7",
   "metadata": {},
   "outputs": [],
   "source": [
    "import pandas as pd\n",
    "import numpy as np\n",
    "import matplotlib.pyplot as plt\n",
    "import seaborn as sns\n",
    "from sklearn.model_selection import train_test_split\n",
    "from sklearn.naive_bayes import MultinomialNB\n",
    "from sklearn.metrics import accuracy_score, confusion_matrix, classification_report\n",
    "from sklearn.feature_extraction.text import TfidfVectorizer"
   ]
  },
  {
   "cell_type": "code",
   "execution_count": null,
   "id": "d716fdf1",
   "metadata": {},
   "outputs": [],
   "source": [
    "# Step 1: Load the Dataset\n",
    "df = pd.read_csv('sms_spam.csv')\n",
    "\n",
    "# Display the first few rows of the dataset\n",
    "print(df.head())"
   ]
  },
  {
   "cell_type": "code",
   "execution_count": null,
   "id": "f8d367fc",
   "metadata": {},
   "outputs": [],
   "source": [
    "# Step 2: Clean the Data\n",
    "# Check for missing values\n",
    "print(df.isnull().sum())\n",
    "\n",
    "# Remove special characters and tokenize\n",
    "df['Message'] = df['Message'].str.replace(r'\\W', ' ')"
   ]
  },
  {
   "cell_type": "code",
   "execution_count": null,
   "id": "341383e2",
   "metadata": {},
   "outputs": [],
   "source": [
    "# Step 3: Feature Extraction with TF-IDF\n",
    "vectorizer = TfidfVectorizer(stop_words='english')\n",
    "X_tfidf = vectorizer.fit_transform(df['Message'])\n",
    "y = df['Label']"
   ]
  },
  {
   "cell_type": "code",
   "execution_count": null,
   "id": "ac9a87e2",
   "metadata": {},
   "outputs": [],
   "source": [
    "# Step 4: Split the Data\n",
    "X_train, X_test, y_train, y_test = train_test_split(X_tfidf, y, test_size=0.2, random_state=42)"
   ]
  },
  {
   "cell_type": "code",
   "execution_count": null,
   "id": "6985de5f",
   "metadata": {},
   "outputs": [],
   "source": [
    "# Step 5: Train Naive Bayes Classifier\n",
    "nb = MultinomialNB()\n",
    "nb.fit(X_train, y_train)\n",
    "y_pred_nb = nb.predict(X_test)"
   ]
  },
  {
   "cell_type": "code",
   "execution_count": null,
   "id": "36f7aca7",
   "metadata": {},
   "outputs": [],
   "source": [
    "# Step 6: Evaluate Model Performance\n",
    "print(\"Naive Bayes Evaluation:\")\n",
    "print(f\"Accuracy: {accuracy_score(y_test, y_pred_nb)}\")\n",
    "print(confusion_matrix(y_test, y_pred_nb))\n",
    "print(classification_report(y_test, y_pred_nb))"
   ]
  }
 ],
 "metadata": {
  "language_info": {
   "name": "python"
  }
 },
 "nbformat": 4,
 "nbformat_minor": 5
}
